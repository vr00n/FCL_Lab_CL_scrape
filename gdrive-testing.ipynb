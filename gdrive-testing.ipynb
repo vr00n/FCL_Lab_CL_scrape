{
 "cells": [
  {
   "cell_type": "code",
   "execution_count": 1,
   "metadata": {},
   "outputs": [
    {
     "name": "stdout",
     "output_type": "stream",
     "text": [
      "Your browser has been opened to visit:\n",
      "()\n",
      "    https://accounts.google.com/o/oauth2/auth?scope=https%3A%2F%2Fwww.googleapis.com%2Fauth%2Fdrive&redirect_uri=http%3A%2F%2Flocalhost%3A8080%2F&response_type=code&client_id=1075584663123-n0at9uh0s356l8ja9na4qj146ea29k59.apps.googleusercontent.com&access_type=offline\n",
      "()\n",
      "Authentication successful.\n"
     ]
    }
   ],
   "source": [
    "from pydrive.auth import GoogleAuth\n",
    "from pydrive.drive import GoogleDrive\n",
    "\n",
    "gauth = GoogleAuth()\n",
    "gauth.LocalWebserverAuth()\n",
    "drive = GoogleDrive(gauth)"
   ]
  },
  {
   "cell_type": "code",
   "execution_count": 5,
   "metadata": {},
   "outputs": [
    {
     "name": "stdout",
     "output_type": "stream",
     "text": [
      "title: oreliys cottage grove, (cottage grove), id: 1Hvvu5emL6U_Fa62G15VieJAkWP2ZFl94mJCnUbmNTOQ\n"
     ]
    },
    {
     "ename": "FileNotDownloadableError",
     "evalue": "No downloadLink/exportLinks for mimetype found in metadata",
     "output_type": "error",
     "traceback": [
      "\u001b[0;31m---------------------------------------------------------------------------\u001b[0m",
      "\u001b[0;31mFileNotDownloadableError\u001b[0m                  Traceback (most recent call last)",
      "\u001b[0;32m<ipython-input-5-e3943205f05d>\u001b[0m in \u001b[0;36m<module>\u001b[0;34m()\u001b[0m\n\u001b[1;32m     16\u001b[0m     \u001b[0;31m#file1['parents']['selfLink']=self_Link\u001b[0m\u001b[0;34m\u001b[0m\u001b[0;34m\u001b[0m\u001b[0m\n\u001b[1;32m     17\u001b[0m     \u001b[0;31m#print self_Link,parent_Link\u001b[0m\u001b[0;34m\u001b[0m\u001b[0;34m\u001b[0m\u001b[0m\n\u001b[0;32m---> 18\u001b[0;31m     \u001b[0mfile1\u001b[0m\u001b[0;34m.\u001b[0m\u001b[0mGetContentFile\u001b[0m\u001b[0;34m(\u001b[0m\u001b[0mfile1\u001b[0m\u001b[0;34m[\u001b[0m\u001b[0;34m'id'\u001b[0m\u001b[0;34m]\u001b[0m\u001b[0;34m)\u001b[0m\u001b[0;34m\u001b[0m\u001b[0m\n\u001b[0m\u001b[1;32m     19\u001b[0m     \u001b[0;31m#file1['parents'] = [{u'isRoot': False, u'kind': u'drive#parentReference', u'id': u'1508t_1QPP-URgyFC4gshrc1q0MbmWiqp', u'selfLink': u'https://www.googleapis.com/drive/v2/files/1BnBc9gxCR1WbZletAJ_waGm32HYqF2Z6/parents/1508t_1QPP-URgyFC4gshrc1q0MbmWiqp', u'parentLink': u'https://www.googleapis.com/drive/v2/files/1508t_1QPP-URgyFC4gshrc1q0MbmWiqp'}]\u001b[0m\u001b[0;34m\u001b[0m\u001b[0;34m\u001b[0m\u001b[0m\n\u001b[1;32m     20\u001b[0m     \u001b[0;31m#file1['parents']['selfLink']=self_Link\u001b[0m\u001b[0;34m\u001b[0m\u001b[0;34m\u001b[0m\u001b[0m\n",
      "\u001b[0;32m/Users/varun-urbint/anaconda2/lib/python2.7/site-packages/pydrive/files.pyc\u001b[0m in \u001b[0;36mGetContentFile\u001b[0;34m(self, filename, mimetype, remove_bom)\u001b[0m\n\u001b[1;32m    208\u001b[0m                     \u001b[0mtype\u001b[0m\u001b[0;34m(\u001b[0m\u001b[0mself\u001b[0m\u001b[0;34m.\u001b[0m\u001b[0mcontent\u001b[0m\u001b[0;34m)\u001b[0m \u001b[0;32mis\u001b[0m \u001b[0;32mnot\u001b[0m \u001b[0mio\u001b[0m\u001b[0;34m.\u001b[0m\u001b[0mBytesIO\u001b[0m \u001b[0;32mor\u001b[0m\u001b[0;31m \u001b[0m\u001b[0;31m\\\u001b[0m\u001b[0;34m\u001b[0m\u001b[0m\n\u001b[1;32m    209\u001b[0m                     \u001b[0mself\u001b[0m\u001b[0;34m.\u001b[0m\u001b[0mhas_bom\u001b[0m \u001b[0;34m==\u001b[0m \u001b[0mremove_bom\u001b[0m\u001b[0;34m:\u001b[0m\u001b[0;34m\u001b[0m\u001b[0m\n\u001b[0;32m--> 210\u001b[0;31m       \u001b[0mself\u001b[0m\u001b[0;34m.\u001b[0m\u001b[0mFetchContent\u001b[0m\u001b[0;34m(\u001b[0m\u001b[0mmimetype\u001b[0m\u001b[0;34m,\u001b[0m \u001b[0mremove_bom\u001b[0m\u001b[0;34m)\u001b[0m\u001b[0;34m\u001b[0m\u001b[0m\n\u001b[0m\u001b[1;32m    211\u001b[0m     \u001b[0mf\u001b[0m \u001b[0;34m=\u001b[0m \u001b[0mopen\u001b[0m\u001b[0;34m(\u001b[0m\u001b[0mfilename\u001b[0m\u001b[0;34m,\u001b[0m \u001b[0;34m'wb'\u001b[0m\u001b[0;34m)\u001b[0m\u001b[0;34m\u001b[0m\u001b[0m\n\u001b[1;32m    212\u001b[0m     \u001b[0mf\u001b[0m\u001b[0;34m.\u001b[0m\u001b[0mwrite\u001b[0m\u001b[0;34m(\u001b[0m\u001b[0mself\u001b[0m\u001b[0;34m.\u001b[0m\u001b[0mcontent\u001b[0m\u001b[0;34m.\u001b[0m\u001b[0mgetvalue\u001b[0m\u001b[0;34m(\u001b[0m\u001b[0;34m)\u001b[0m\u001b[0;34m)\u001b[0m\u001b[0;34m\u001b[0m\u001b[0m\n",
      "\u001b[0;32m/Users/varun-urbint/anaconda2/lib/python2.7/site-packages/pydrive/files.pyc\u001b[0m in \u001b[0;36m_decorated\u001b[0;34m(self, *args, **kwargs)\u001b[0m\n\u001b[1;32m     41\u001b[0m     \u001b[0;32mif\u001b[0m \u001b[0;32mnot\u001b[0m \u001b[0mself\u001b[0m\u001b[0;34m.\u001b[0m\u001b[0muploaded\u001b[0m\u001b[0;34m:\u001b[0m\u001b[0;34m\u001b[0m\u001b[0m\n\u001b[1;32m     42\u001b[0m       \u001b[0mself\u001b[0m\u001b[0;34m.\u001b[0m\u001b[0mFetchMetadata\u001b[0m\u001b[0;34m(\u001b[0m\u001b[0;34m)\u001b[0m\u001b[0;34m\u001b[0m\u001b[0m\n\u001b[0;32m---> 43\u001b[0;31m     \u001b[0;32mreturn\u001b[0m \u001b[0mdecoratee\u001b[0m\u001b[0;34m(\u001b[0m\u001b[0mself\u001b[0m\u001b[0;34m,\u001b[0m \u001b[0;34m*\u001b[0m\u001b[0margs\u001b[0m\u001b[0;34m,\u001b[0m \u001b[0;34m**\u001b[0m\u001b[0mkwargs\u001b[0m\u001b[0;34m)\u001b[0m\u001b[0;34m\u001b[0m\u001b[0m\n\u001b[0m\u001b[1;32m     44\u001b[0m   \u001b[0;32mreturn\u001b[0m \u001b[0m_decorated\u001b[0m\u001b[0;34m\u001b[0m\u001b[0m\n\u001b[1;32m     45\u001b[0m \u001b[0;34m\u001b[0m\u001b[0m\n",
      "\u001b[0;32m/Users/varun-urbint/anaconda2/lib/python2.7/site-packages/pydrive/files.pyc\u001b[0m in \u001b[0;36mFetchContent\u001b[0;34m(self, mimetype, remove_bom)\u001b[0m\n\u001b[1;32m    263\u001b[0m     \u001b[0;32melse\u001b[0m\u001b[0;34m:\u001b[0m\u001b[0;34m\u001b[0m\u001b[0m\n\u001b[1;32m    264\u001b[0m       raise FileNotDownloadableError(\n\u001b[0;32m--> 265\u001b[0;31m         'No downloadLink/exportLinks for mimetype found in metadata')\n\u001b[0m\u001b[1;32m    266\u001b[0m \u001b[0;34m\u001b[0m\u001b[0m\n\u001b[1;32m    267\u001b[0m     \u001b[0;32mif\u001b[0m \u001b[0mmimetype\u001b[0m \u001b[0;34m==\u001b[0m \u001b[0;34m'text/plain'\u001b[0m \u001b[0;32mand\u001b[0m \u001b[0mremove_bom\u001b[0m\u001b[0;34m:\u001b[0m\u001b[0;34m\u001b[0m\u001b[0m\n",
      "\u001b[0;31mFileNotDownloadableError\u001b[0m: No downloadLink/exportLinks for mimetype found in metadata"
     ]
    }
   ],
   "source": [
    "file_list = drive.ListFile({'q': \"'1508t_1QPP-URgyFC4gshrc1q0MbmWiqp' in parents and trashed=false\"}).GetList()\n",
    "for file1 in file_list:\n",
    "    print('title: %s, id: %s' % (file1['title'], file1['id']))\n",
    "#     file_id=file1['id']\n",
    "#     processed_id='1BnBc9gxCR1WbZletAJ_waGm32HYqF2Z6'\n",
    "#     self_Link='https://www.googleapis.com/drive/v2/files/'+file_id+'/parents/'+processed_id\n",
    "#     parent_Link='https://www.googleapis.com/drive/v2/files/'+processed_id\n",
    "#     file1['parents'][0]['id']=processed_id\n",
    "#     print file1['parents'][0]['id']\n",
    "#     file1['parents'][0]['selfLink']=self_Link\n",
    "#     file1['parents'][0]['parentLink']=parent_Link\n",
    "    \n",
    "#     print file1['parents'][0]['selfLink']\n",
    "#     file1['parents'][0]['parentLink']\n",
    "#     file1.Upload()\n",
    "    #file1['parents']['selfLink']=self_Link\n",
    "    #print self_Link,parent_Link\n",
    "    file1.GetContentFile(file1['id'])\n",
    "    #file1['parents'] = [{u'isRoot': False, u'kind': u'drive#parentReference', u'id': u'1508t_1QPP-URgyFC4gshrc1q0MbmWiqp', u'selfLink': u'https://www.googleapis.com/drive/v2/files/1BnBc9gxCR1WbZletAJ_waGm32HYqF2Z6/parents/1508t_1QPP-URgyFC4gshrc1q0MbmWiqp', u'parentLink': u'https://www.googleapis.com/drive/v2/files/1508t_1QPP-URgyFC4gshrc1q0MbmWiqp'}]\n",
    "    #file1['parents']['selfLink']=self_Link\n",
    "    #print('title: %s, id: %s' % (file1['title'], file1['id']))\n",
    "    #print file1"
   ]
  },
  {
   "cell_type": "code",
   "execution_count": 11,
   "metadata": {},
   "outputs": [],
   "source": [
    "from apiclient import errors\n",
    "# ...\n",
    "\n",
    "def retrieve_all_files(service):\n",
    "  \"\"\"Retrieve a list of File resources.\n",
    "\n",
    "  Args:\n",
    "    service: Drive API service instance.\n",
    "  Returns:\n",
    "    List of File resources.\n",
    "  \"\"\"\n",
    "  result = []\n",
    "  page_token = None\n",
    "  while True:\n",
    "    try:\n",
    "      param = {}\n",
    "      if page_token:\n",
    "        param['pageToken'] = page_token\n",
    "      files = service.files().list(**param).execute()\n",
    "\n",
    "      result.extend(files['items'])\n",
    "      page_token = files.get('nextPageToken')\n",
    "      if not page_token:\n",
    "        break\n",
    "    except errors.HttpError, error:\n",
    "      print 'An error occurred: %s' % error\n",
    "      break\n",
    "  return result"
   ]
  },
  {
   "cell_type": "code",
   "execution_count": null,
   "metadata": {},
   "outputs": [],
   "source": []
  }
 ],
 "metadata": {
  "kernelspec": {
   "display_name": "Python 2",
   "language": "python",
   "name": "python2"
  },
  "language_info": {
   "codemirror_mode": {
    "name": "ipython",
    "version": 2
   },
   "file_extension": ".py",
   "mimetype": "text/x-python",
   "name": "python",
   "nbconvert_exporter": "python",
   "pygments_lexer": "ipython2",
   "version": "2.7.15"
  }
 },
 "nbformat": 4,
 "nbformat_minor": 2
}
